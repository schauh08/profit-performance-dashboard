import pandas as pd
from sqlalchemy import create_engine

df_cleaned = pd.read_csv("data/processed/superstore_cleaned.csv", parse_dates=["Order Date", "Ship Date"])

engine = create_engine("sqlite:///data/superstore.db", echo=True)

df_cleaned.to_sql("raw_sales", engine, if_exists="replace", index=False)



from sqlalchemy import text

with engine.begin() as conn:
    conn.execute(text(
    
"""
CREATE TABLE IF NOT EXISTS dim_product AS
SELECT 
   DISTINCT DATE("Order Date") AS order_date,
   CAST(STRFTIME('%Y', "Order Date") AS INTEGER) AS year,
   CAST(STRFTIME('%m', "Order Date") AS INTEGER) AS month,

   CASE 
       WHEN CAST(STRFTIME('%m', "Order Date") AS INTEGER) BETWEEN 1 AND 3 THEN 'Q1'
       WHEN CAST(STRFTIME('%m', "Order Date") AS INTEGER) BETWEEN 4 AND 6 THEN 'Q2'
       WHEN CAST(STRFTIME('%m', "Order Date") AS INTEGER) BETWEEN 7 AND 8 THEN 'Q3'
       ELSE 'Q4'

  END                                             AS quarter

FROM raw_sales;

CREATE TABLE IF NOT EXISTS dim_product AS
    SELECT DISTINCT
      Category,
      "Sub-Category" AS sub_category

FROM raw_sales
   """         
                   )
                )


with engine.begin() as conn:

    conn.execute(text
        ("""
        CREATE TABLE IF NOT EXISTS facts_sales AS
        SELECT 
            ROW_NUMBER() OVER (ORDER by "ORDER ID") AS sale_id,
            DATE("Order Date")                      AS order_date,
            Category,
            "Sub-Category" AS sub_category,
            Region,
            Sales,
            Quantity,
            Profit,
            CAST((JULIANDAY("Ship Date") - JULIANDAY("Order Date")) AS INTEGER) AS shipping_time_days
    FROM raw_sales;


    
      """)
            )


pd.read_sql("SELECT Region, SUM(SALES) AS total_sales FROM facts_sales GROUP BY REGION", engine)

pd.read_sql("SELECT d.quater, COUNT(*) AS num_orders FROM facts_sales f JOIN dim_date d USING(order_date) GROUP BY d.quarter", engine)

pd.read_sql("""SELECT sub_category, SUM(Profit) AS total_profit
            FROM facts_sales
            GROUP BY sub_category
            ORDER BY total_profit DESC LIMIT 5""", engine)






