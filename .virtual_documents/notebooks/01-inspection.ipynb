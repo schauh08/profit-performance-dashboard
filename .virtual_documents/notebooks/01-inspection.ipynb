import os

# Where Jupyter thinks “.” is
print("Working directory:", os.getcwd())

# What’s in the root of that folder?
print("Root contents:", os.listdir(os.getcwd()))

# Do you even have a 'data' folder?
if os.path.exists("data"):
    print("'data' contents:", os.listdir("data"))
else:
    print("No 'data' folder here.")



import pandas as pd

df = pd.read_csv("data/raw/Sample - Superstore.csv", parse_dates=["Order Date","Ship Date"], encoding="latin1")

df.head()


df.info()


df.describe()


df.isna().sum()


relavent_columns = ["Order ID", "Order Date", "Ship Date", "Country", "Region", "Product ID", "Category", "Sub-Category", "Product Name","Sales", "Quantity", "Profit"]


df_cleaned = df[relavent_columns]
df_cleaned.to_csv("data/processed/superstore_cleaned.csv", index=False)
