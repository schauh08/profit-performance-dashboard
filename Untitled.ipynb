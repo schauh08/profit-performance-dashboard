{
 "cells": [
  {
   "cell_type": "code",
   "execution_count": null,
   "id": "0234d502-5c14-415b-88f8-5397d97a8d14",
   "metadata": {},
   "outputs": [],
   "source": [
    "import pandas as pd\n",
    "from sqlalchemy import create_engine\n",
    "\n",
    "df_cleaned = pd.read_csv(\"data/processed/superstore_cleaned.csv\", parse_dates=[\"Order Date\", \"Ship Date\"])\n",
    "\n",
    "engine = create_engine(\"sqlite:///data/superstore.db\","
   ]
  }
 ],
 "metadata": {
  "kernelspec": {
   "display_name": "Python [conda env:base] *",
   "language": "python",
   "name": "conda-base-py"
  },
  "language_info": {
   "codemirror_mode": {
    "name": "ipython",
    "version": 3
   },
   "file_extension": ".py",
   "mimetype": "text/x-python",
   "name": "python",
   "nbconvert_exporter": "python",
   "pygments_lexer": "ipython3",
   "version": "3.12.7"
  }
 },
 "nbformat": 4,
 "nbformat_minor": 5
}
