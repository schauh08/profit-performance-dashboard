import pandas as pd
from sqlalchemy import create_engine

df_cleaned = pd.read_csv("data/processed/superstore_cleaned.csv", parse_dates=["Order Date", "Ship Date"])

engine = create_engine("sqlite:///data/superstore.db",