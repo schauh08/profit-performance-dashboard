{
 "cells": [
  {
   "cell_type": "code",
   "execution_count": 13,
   "id": "0234d502-5c14-415b-88f8-5397d97a8d14",
   "metadata": {},
   "outputs": [
    {
     "name": "stdout",
     "output_type": "stream",
     "text": [
      "2025-05-19 19:05:45,601 INFO sqlalchemy.engine.Engine BEGIN (implicit)\n",
      "2025-05-19 19:05:45,608 INFO sqlalchemy.engine.Engine PRAGMA main.table_info(\"raw_sales\")\n",
      "2025-05-19 19:05:45,609 INFO sqlalchemy.engine.Engine [raw sql] ()\n",
      "2025-05-19 19:05:45,617 INFO sqlalchemy.engine.Engine PRAGMA main.table_info(\"raw_sales\")\n",
      "2025-05-19 19:05:45,618 INFO sqlalchemy.engine.Engine [raw sql] ()\n",
      "2025-05-19 19:05:45,620 INFO sqlalchemy.engine.Engine SELECT name FROM sqlite_master WHERE type='table' AND name NOT LIKE 'sqlite~_%' ESCAPE '~' ORDER BY name\n",
      "2025-05-19 19:05:45,622 INFO sqlalchemy.engine.Engine [raw sql] ()\n",
      "2025-05-19 19:05:45,627 INFO sqlalchemy.engine.Engine SELECT name FROM sqlite_master WHERE type='view' AND name NOT LIKE 'sqlite~_%' ESCAPE '~' ORDER BY name\n",
      "2025-05-19 19:05:45,629 INFO sqlalchemy.engine.Engine [raw sql] ()\n",
      "2025-05-19 19:05:45,632 INFO sqlalchemy.engine.Engine PRAGMA main.table_xinfo(\"raw_sales\")\n",
      "2025-05-19 19:05:45,634 INFO sqlalchemy.engine.Engine [raw sql] ()\n",
      "2025-05-19 19:05:45,637 INFO sqlalchemy.engine.Engine SELECT sql FROM  (SELECT * FROM sqlite_master UNION ALL   SELECT * FROM sqlite_temp_master) WHERE name = ? AND type in ('table', 'view')\n",
      "2025-05-19 19:05:45,639 INFO sqlalchemy.engine.Engine [raw sql] ('raw_sales',)\n",
      "2025-05-19 19:05:45,643 INFO sqlalchemy.engine.Engine PRAGMA main.foreign_key_list(\"raw_sales\")\n",
      "2025-05-19 19:05:45,643 INFO sqlalchemy.engine.Engine [raw sql] ()\n",
      "2025-05-19 19:05:45,648 INFO sqlalchemy.engine.Engine PRAGMA temp.foreign_key_list(\"raw_sales\")\n",
      "2025-05-19 19:05:45,648 INFO sqlalchemy.engine.Engine [raw sql] ()\n",
      "2025-05-19 19:05:45,650 INFO sqlalchemy.engine.Engine SELECT sql FROM  (SELECT * FROM sqlite_master UNION ALL   SELECT * FROM sqlite_temp_master) WHERE name = ? AND type in ('table', 'view')\n",
      "2025-05-19 19:05:45,650 INFO sqlalchemy.engine.Engine [raw sql] ('raw_sales',)\n",
      "2025-05-19 19:05:45,650 INFO sqlalchemy.engine.Engine PRAGMA main.index_list(\"raw_sales\")\n",
      "2025-05-19 19:05:45,650 INFO sqlalchemy.engine.Engine [raw sql] ()\n",
      "2025-05-19 19:05:45,650 INFO sqlalchemy.engine.Engine PRAGMA temp.index_list(\"raw_sales\")\n",
      "2025-05-19 19:05:45,657 INFO sqlalchemy.engine.Engine [raw sql] ()\n",
      "2025-05-19 19:05:45,658 INFO sqlalchemy.engine.Engine PRAGMA main.table_info(\"raw_sales\")\n",
      "2025-05-19 19:05:45,658 INFO sqlalchemy.engine.Engine [raw sql] ()\n",
      "2025-05-19 19:05:45,661 INFO sqlalchemy.engine.Engine PRAGMA main.index_list(\"raw_sales\")\n",
      "2025-05-19 19:05:45,661 INFO sqlalchemy.engine.Engine [raw sql] ()\n",
      "2025-05-19 19:05:45,662 INFO sqlalchemy.engine.Engine PRAGMA temp.index_list(\"raw_sales\")\n",
      "2025-05-19 19:05:45,664 INFO sqlalchemy.engine.Engine [raw sql] ()\n",
      "2025-05-19 19:05:45,667 INFO sqlalchemy.engine.Engine PRAGMA main.table_info(\"raw_sales\")\n",
      "2025-05-19 19:05:45,669 INFO sqlalchemy.engine.Engine [raw sql] ()\n",
      "2025-05-19 19:05:45,669 INFO sqlalchemy.engine.Engine SELECT sql FROM  (SELECT * FROM sqlite_master UNION ALL   SELECT * FROM sqlite_temp_master) WHERE name = ? AND type in ('table', 'view')\n",
      "2025-05-19 19:05:45,669 INFO sqlalchemy.engine.Engine [raw sql] ('raw_sales',)\n",
      "2025-05-19 19:05:45,676 INFO sqlalchemy.engine.Engine \n",
      "DROP TABLE raw_sales\n",
      "2025-05-19 19:05:45,677 INFO sqlalchemy.engine.Engine [no key 0.00087s] ()\n",
      "2025-05-19 19:05:45,687 INFO sqlalchemy.engine.Engine \n",
      "CREATE TABLE raw_sales (\n",
      "\t\"Order ID\" TEXT, \n",
      "\t\"Order Date\" DATETIME, \n",
      "\t\"Ship Date\" DATETIME, \n",
      "\t\"Country\" TEXT, \n",
      "\t\"Region\" TEXT, \n",
      "\t\"Product ID\" TEXT, \n",
      "\t\"Category\" TEXT, \n",
      "\t\"Sub-Category\" TEXT, \n",
      "\t\"Product Name\" TEXT, \n",
      "\t\"Sales\" FLOAT, \n",
      "\t\"Quantity\" BIGINT, \n",
      "\t\"Profit\" FLOAT\n",
      ")\n",
      "\n",
      "\n",
      "2025-05-19 19:05:45,689 INFO sqlalchemy.engine.Engine [no key 0.00102s] ()\n",
      "2025-05-19 19:05:45,797 INFO sqlalchemy.engine.Engine INSERT INTO raw_sales (\"Order ID\", \"Order Date\", \"Ship Date\", \"Country\", \"Region\", \"Product ID\", \"Category\", \"Sub-Category\", \"Product Name\", \"Sales\", \"Quantity\", \"Profit\") VALUES (?, ?, ?, ?, ?, ?, ?, ?, ?, ?, ?, ?)\n",
      "2025-05-19 19:05:45,798 INFO sqlalchemy.engine.Engine [generated in 0.07724s] [('CA-2016-152156', '2016-11-08 00:00:00.000000', '2016-11-11 00:00:00.000000', 'United States', 'South', 'FUR-BO-10001798', 'Furniture', 'Bookcases', 'Bush Somerset Collection Bookcase', 261.96, 2, 41.9136), ('CA-2016-152156', '2016-11-08 00:00:00.000000', '2016-11-11 00:00:00.000000', 'United States', 'South', 'FUR-CH-10000454', 'Furniture', 'Chairs', 'Hon Deluxe Fabric Upholstered Stacking Chairs, Rounded Back', 731.94, 3, 219.582), ('CA-2016-138688', '2016-06-12 00:00:00.000000', '2016-06-16 00:00:00.000000', 'United States', 'West', 'OFF-LA-10000240', 'Office Supplies', 'Labels', 'Self-Adhesive Address Labels for Typewriters by Universal', 14.62, 2, 6.8714), ('US-2015-108966', '2015-10-11 00:00:00.000000', '2015-10-18 00:00:00.000000', 'United States', 'South', 'FUR-TA-10000577', 'Furniture', 'Tables', 'Bretford CR4500 Series Slim Rectangular Table', 957.5775, 5, -383.031), ('US-2015-108966', '2015-10-11 00:00:00.000000', '2015-10-18 00:00:00.000000', 'United States', 'South', 'OFF-ST-10000760', 'Office Supplies', 'Storage', \"Eldon Fold 'N Roll Cart System\", 22.368, 2, 2.5164), ('CA-2014-115812', '2014-06-09 00:00:00.000000', '2014-06-14 00:00:00.000000', 'United States', 'West', 'FUR-FU-10001487', 'Furniture', 'Furnishings', 'Eldon Expressions Wood and Plastic Desk Accessories, Cherry Wood', 48.86, 7, 14.1694), ('CA-2014-115812', '2014-06-09 00:00:00.000000', '2014-06-14 00:00:00.000000', 'United States', 'West', 'OFF-AR-10002833', 'Office Supplies', 'Art', 'Newell 322', 7.28, 4, 1.9656), ('CA-2014-115812', '2014-06-09 00:00:00.000000', '2014-06-14 00:00:00.000000', 'United States', 'West', 'TEC-PH-10002275', 'Technology', 'Phones', 'Mitel 5320 IP Phone VoIP phone', 907.152, 6, 90.7152)  ... displaying 10 of 9994 total bound parameter sets ...  ('CA-2017-121258', '2017-02-26 00:00:00.000000', '2017-03-03 00:00:00.000000', 'United States', 'West', 'OFF-PA-10004041', 'Office Supplies', 'Paper', 'It\\'s Hot Message Books with Stickers, 2 3/4\" x 5\"', 29.6, 4, 13.32), ('CA-2017-119914', '2017-05-04 00:00:00.000000', '2017-05-09 00:00:00.000000', 'United States', 'West', 'OFF-AP-10002684', 'Office Supplies', 'Appliances', 'Acco 7-Outlet Masterpiece Power Center, Wihtout Fax/Phone Line Protection', 243.16, 2, 72.948)]\n",
      "2025-05-19 19:05:45,829 INFO sqlalchemy.engine.Engine COMMIT\n"
     ]
    },
    {
     "data": {
      "text/plain": [
       "9994"
      ]
     },
     "execution_count": 13,
     "metadata": {},
     "output_type": "execute_result"
    }
   ],
   "source": [
    "import pandas as pd\n",
    "from sqlalchemy import create_engine\n",
    "\n",
    "df_cleaned = pd.read_csv(\"data/processed/superstore_cleaned.csv\", parse_dates=[\"Order Date\", \"Ship Date\"])\n",
    "\n",
    "engine = create_engine(\"sqlite:///data/superstore.db\", echo=True)\n",
    "\n",
    "df_cleaned.to_sql(\"raw_sales\", engine, if_exists=\"replace\", index=False)\n"
   ]
  },
  {
   "cell_type": "code",
   "execution_count": 47,
   "id": "319ab9ff-631c-43b3-8b34-0ae04b75a194",
   "metadata": {},
   "outputs": [
    {
     "name": "stdout",
     "output_type": "stream",
     "text": [
      "2025-05-19 19:52:14,420 INFO sqlalchemy.engine.Engine BEGIN (implicit)\n",
      "2025-05-19 19:52:14,421 INFO sqlalchemy.engine.Engine \n",
      "CREATE TABLE IF NOT EXISTS dim_product AS\n",
      "SELECT \n",
      "   DISTINCT DATE(\"Order Date\") AS order_date,\n",
      "   CAST(STRFTIME('%Y', \"Order Date\") AS INTEGER) AS year,\n",
      "   CAST(STRFTIME('%m', \"Order Date\") AS INTEGER) AS month,\n",
      "\n",
      "   CASE \n",
      "       WHEN CAST(STRFTIME('%m', \"Order Date\") AS INTEGER) BETWEEN 1 AND 3 THEN 'Q1'\n",
      "       WHEN CAST(STRFTIME('%m', \"Order Date\") AS INTEGER) BETWEEN 4 AND 6 THEN 'Q2'\n",
      "       WHEN CAST(STRFTIME('%m', \"Order Date\") AS INTEGER) BETWEEN 7 AND 8 THEN 'Q3'\n",
      "       ELSE 'Q4'\n",
      "\n",
      "  END                                             AS quarter\n",
      "\n",
      "FROM raw_sales;\n",
      "\n",
      "CREATE TABLE IF NOT EXISTS dim_product AS\n",
      "    SELECT DISTINCT\n",
      "      Category,\n",
      "      \"Sub-Category\" AS sub_category\n",
      "\n",
      "FROM raw_sales\n",
      "   \n",
      "2025-05-19 19:52:14,423 INFO sqlalchemy.engine.Engine [generated in 0.00090s] ()\n",
      "2025-05-19 19:52:14,424 INFO sqlalchemy.engine.Engine ROLLBACK\n"
     ]
    },
    {
     "ename": "ProgrammingError",
     "evalue": "(sqlite3.ProgrammingError) You can only execute one statement at a time.\n[SQL: \nCREATE TABLE IF NOT EXISTS dim_product AS\nSELECT \n   DISTINCT DATE(\"Order Date\") AS order_date,\n   CAST(STRFTIME('%Y', \"Order Date\") AS INTEGER) AS year,\n   CAST(STRFTIME('%m', \"Order Date\") AS INTEGER) AS month,\n\n   CASE \n       WHEN CAST(STRFTIME('%m', \"Order Date\") AS INTEGER) BETWEEN 1 AND 3 THEN 'Q1'\n       WHEN CAST(STRFTIME('%m', \"Order Date\") AS INTEGER) BETWEEN 4 AND 6 THEN 'Q2'\n       WHEN CAST(STRFTIME('%m', \"Order Date\") AS INTEGER) BETWEEN 7 AND 8 THEN 'Q3'\n       ELSE 'Q4'\n\n  END                                             AS quarter\n\nFROM raw_sales;\n\nCREATE TABLE IF NOT EXISTS dim_product AS\n    SELECT DISTINCT\n      Category,\n      \"Sub-Category\" AS sub_category\n\nFROM raw_sales\n   ]\n(Background on this error at: https://sqlalche.me/e/20/f405)",
     "output_type": "error",
     "traceback": [
      "\u001b[1;31m---------------------------------------------------------------------------\u001b[0m",
      "\u001b[1;31mProgrammingError\u001b[0m                          Traceback (most recent call last)",
      "File \u001b[1;32mC:\\ProgramData\\anaconda3\\Lib\\site-packages\\sqlalchemy\\engine\\base.py:1967\u001b[0m, in \u001b[0;36mConnection._exec_single_context\u001b[1;34m(self, dialect, context, statement, parameters)\u001b[0m\n\u001b[0;32m   1966\u001b[0m     \u001b[38;5;28;01mif\u001b[39;00m \u001b[38;5;129;01mnot\u001b[39;00m evt_handled:\n\u001b[1;32m-> 1967\u001b[0m         \u001b[38;5;28mself\u001b[39m\u001b[38;5;241m.\u001b[39mdialect\u001b[38;5;241m.\u001b[39mdo_execute(\n\u001b[0;32m   1968\u001b[0m             cursor, str_statement, effective_parameters, context\n\u001b[0;32m   1969\u001b[0m         )\n\u001b[0;32m   1971\u001b[0m \u001b[38;5;28;01mif\u001b[39;00m \u001b[38;5;28mself\u001b[39m\u001b[38;5;241m.\u001b[39m_has_events \u001b[38;5;129;01mor\u001b[39;00m \u001b[38;5;28mself\u001b[39m\u001b[38;5;241m.\u001b[39mengine\u001b[38;5;241m.\u001b[39m_has_events:\n",
      "File \u001b[1;32mC:\\ProgramData\\anaconda3\\Lib\\site-packages\\sqlalchemy\\engine\\default.py:941\u001b[0m, in \u001b[0;36mDefaultDialect.do_execute\u001b[1;34m(self, cursor, statement, parameters, context)\u001b[0m\n\u001b[0;32m    940\u001b[0m \u001b[38;5;28;01mdef\u001b[39;00m \u001b[38;5;21mdo_execute\u001b[39m(\u001b[38;5;28mself\u001b[39m, cursor, statement, parameters, context\u001b[38;5;241m=\u001b[39m\u001b[38;5;28;01mNone\u001b[39;00m):\n\u001b[1;32m--> 941\u001b[0m     cursor\u001b[38;5;241m.\u001b[39mexecute(statement, parameters)\n",
      "\u001b[1;31mProgrammingError\u001b[0m: You can only execute one statement at a time.",
      "\nThe above exception was the direct cause of the following exception:\n",
      "\u001b[1;31mProgrammingError\u001b[0m                          Traceback (most recent call last)",
      "Cell \u001b[1;32mIn[47], line 4\u001b[0m\n\u001b[0;32m      1\u001b[0m \u001b[38;5;28;01mfrom\u001b[39;00m \u001b[38;5;21;01msqlalchemy\u001b[39;00m \u001b[38;5;28;01mimport\u001b[39;00m text\n\u001b[0;32m      3\u001b[0m \u001b[38;5;28;01mwith\u001b[39;00m engine\u001b[38;5;241m.\u001b[39mbegin() \u001b[38;5;28;01mas\u001b[39;00m conn:\n\u001b[1;32m----> 4\u001b[0m     conn\u001b[38;5;241m.\u001b[39mexecute(text(\n\u001b[0;32m      5\u001b[0m \u001b[38;5;250m    \u001b[39m\n\u001b[0;32m      6\u001b[0m \u001b[38;5;124;03m\"\"\"\u001b[39;00m\n\u001b[0;32m      7\u001b[0m \u001b[38;5;124;03mCREATE TABLE IF NOT EXISTS dim_product AS\u001b[39;00m\n\u001b[0;32m      8\u001b[0m \u001b[38;5;124;03mSELECT \u001b[39;00m\n\u001b[0;32m      9\u001b[0m \u001b[38;5;124;03m   DISTINCT DATE(\"Order Date\") AS order_date,\u001b[39;00m\n\u001b[0;32m     10\u001b[0m \u001b[38;5;124;03m   CAST(STRFTIME('%Y', \"Order Date\") AS INTEGER) AS year,\u001b[39;00m\n\u001b[0;32m     11\u001b[0m \u001b[38;5;124;03m   CAST(STRFTIME('%m', \"Order Date\") AS INTEGER) AS month,\u001b[39;00m\n\u001b[0;32m     12\u001b[0m \n\u001b[0;32m     13\u001b[0m \u001b[38;5;124;03m   CASE \u001b[39;00m\n\u001b[0;32m     14\u001b[0m \u001b[38;5;124;03m       WHEN CAST(STRFTIME('%m', \"Order Date\") AS INTEGER) BETWEEN 1 AND 3 THEN 'Q1'\u001b[39;00m\n\u001b[0;32m     15\u001b[0m \u001b[38;5;124;03m       WHEN CAST(STRFTIME('%m', \"Order Date\") AS INTEGER) BETWEEN 4 AND 6 THEN 'Q2'\u001b[39;00m\n\u001b[0;32m     16\u001b[0m \u001b[38;5;124;03m       WHEN CAST(STRFTIME('%m', \"Order Date\") AS INTEGER) BETWEEN 7 AND 8 THEN 'Q3'\u001b[39;00m\n\u001b[0;32m     17\u001b[0m \u001b[38;5;124;03m       ELSE 'Q4'\u001b[39;00m\n\u001b[0;32m     18\u001b[0m \n\u001b[0;32m     19\u001b[0m \u001b[38;5;124;03m  END                                             AS quarter\u001b[39;00m\n\u001b[0;32m     20\u001b[0m \n\u001b[0;32m     21\u001b[0m \u001b[38;5;124;03mFROM raw_sales;\u001b[39;00m\n\u001b[0;32m     22\u001b[0m \n\u001b[0;32m     23\u001b[0m \u001b[38;5;124;03mCREATE TABLE IF NOT EXISTS dim_product AS\u001b[39;00m\n\u001b[0;32m     24\u001b[0m \u001b[38;5;124;03m    SELECT DISTINCT\u001b[39;00m\n\u001b[0;32m     25\u001b[0m \u001b[38;5;124;03m      Category,\u001b[39;00m\n\u001b[0;32m     26\u001b[0m \u001b[38;5;124;03m      \"Sub-Category\" AS sub_category\u001b[39;00m\n\u001b[0;32m     27\u001b[0m \n\u001b[0;32m     28\u001b[0m \u001b[38;5;124;03mFROM raw_sales\u001b[39;00m\n\u001b[0;32m     29\u001b[0m \u001b[38;5;124;03m   \"\"\"\u001b[39;00m         \n\u001b[0;32m     30\u001b[0m                    )\n\u001b[0;32m     31\u001b[0m                 )\n",
      "File \u001b[1;32mC:\\ProgramData\\anaconda3\\Lib\\site-packages\\sqlalchemy\\engine\\base.py:1418\u001b[0m, in \u001b[0;36mConnection.execute\u001b[1;34m(self, statement, parameters, execution_options)\u001b[0m\n\u001b[0;32m   1416\u001b[0m     \u001b[38;5;28;01mraise\u001b[39;00m exc\u001b[38;5;241m.\u001b[39mObjectNotExecutableError(statement) \u001b[38;5;28;01mfrom\u001b[39;00m \u001b[38;5;21;01merr\u001b[39;00m\n\u001b[0;32m   1417\u001b[0m \u001b[38;5;28;01melse\u001b[39;00m:\n\u001b[1;32m-> 1418\u001b[0m     \u001b[38;5;28;01mreturn\u001b[39;00m meth(\n\u001b[0;32m   1419\u001b[0m         \u001b[38;5;28mself\u001b[39m,\n\u001b[0;32m   1420\u001b[0m         distilled_parameters,\n\u001b[0;32m   1421\u001b[0m         execution_options \u001b[38;5;129;01mor\u001b[39;00m NO_OPTIONS,\n\u001b[0;32m   1422\u001b[0m     )\n",
      "File \u001b[1;32mC:\\ProgramData\\anaconda3\\Lib\\site-packages\\sqlalchemy\\sql\\elements.py:515\u001b[0m, in \u001b[0;36mClauseElement._execute_on_connection\u001b[1;34m(self, connection, distilled_params, execution_options)\u001b[0m\n\u001b[0;32m    513\u001b[0m     \u001b[38;5;28;01mif\u001b[39;00m TYPE_CHECKING:\n\u001b[0;32m    514\u001b[0m         \u001b[38;5;28;01massert\u001b[39;00m \u001b[38;5;28misinstance\u001b[39m(\u001b[38;5;28mself\u001b[39m, Executable)\n\u001b[1;32m--> 515\u001b[0m     \u001b[38;5;28;01mreturn\u001b[39;00m connection\u001b[38;5;241m.\u001b[39m_execute_clauseelement(\n\u001b[0;32m    516\u001b[0m         \u001b[38;5;28mself\u001b[39m, distilled_params, execution_options\n\u001b[0;32m    517\u001b[0m     )\n\u001b[0;32m    518\u001b[0m \u001b[38;5;28;01melse\u001b[39;00m:\n\u001b[0;32m    519\u001b[0m     \u001b[38;5;28;01mraise\u001b[39;00m exc\u001b[38;5;241m.\u001b[39mObjectNotExecutableError(\u001b[38;5;28mself\u001b[39m)\n",
      "File \u001b[1;32mC:\\ProgramData\\anaconda3\\Lib\\site-packages\\sqlalchemy\\engine\\base.py:1640\u001b[0m, in \u001b[0;36mConnection._execute_clauseelement\u001b[1;34m(self, elem, distilled_parameters, execution_options)\u001b[0m\n\u001b[0;32m   1628\u001b[0m compiled_cache: Optional[CompiledCacheType] \u001b[38;5;241m=\u001b[39m execution_options\u001b[38;5;241m.\u001b[39mget(\n\u001b[0;32m   1629\u001b[0m     \u001b[38;5;124m\"\u001b[39m\u001b[38;5;124mcompiled_cache\u001b[39m\u001b[38;5;124m\"\u001b[39m, \u001b[38;5;28mself\u001b[39m\u001b[38;5;241m.\u001b[39mengine\u001b[38;5;241m.\u001b[39m_compiled_cache\n\u001b[0;32m   1630\u001b[0m )\n\u001b[0;32m   1632\u001b[0m compiled_sql, extracted_params, cache_hit \u001b[38;5;241m=\u001b[39m elem\u001b[38;5;241m.\u001b[39m_compile_w_cache(\n\u001b[0;32m   1633\u001b[0m     dialect\u001b[38;5;241m=\u001b[39mdialect,\n\u001b[0;32m   1634\u001b[0m     compiled_cache\u001b[38;5;241m=\u001b[39mcompiled_cache,\n\u001b[1;32m   (...)\u001b[0m\n\u001b[0;32m   1638\u001b[0m     linting\u001b[38;5;241m=\u001b[39m\u001b[38;5;28mself\u001b[39m\u001b[38;5;241m.\u001b[39mdialect\u001b[38;5;241m.\u001b[39mcompiler_linting \u001b[38;5;241m|\u001b[39m compiler\u001b[38;5;241m.\u001b[39mWARN_LINTING,\n\u001b[0;32m   1639\u001b[0m )\n\u001b[1;32m-> 1640\u001b[0m ret \u001b[38;5;241m=\u001b[39m \u001b[38;5;28mself\u001b[39m\u001b[38;5;241m.\u001b[39m_execute_context(\n\u001b[0;32m   1641\u001b[0m     dialect,\n\u001b[0;32m   1642\u001b[0m     dialect\u001b[38;5;241m.\u001b[39mexecution_ctx_cls\u001b[38;5;241m.\u001b[39m_init_compiled,\n\u001b[0;32m   1643\u001b[0m     compiled_sql,\n\u001b[0;32m   1644\u001b[0m     distilled_parameters,\n\u001b[0;32m   1645\u001b[0m     execution_options,\n\u001b[0;32m   1646\u001b[0m     compiled_sql,\n\u001b[0;32m   1647\u001b[0m     distilled_parameters,\n\u001b[0;32m   1648\u001b[0m     elem,\n\u001b[0;32m   1649\u001b[0m     extracted_params,\n\u001b[0;32m   1650\u001b[0m     cache_hit\u001b[38;5;241m=\u001b[39mcache_hit,\n\u001b[0;32m   1651\u001b[0m )\n\u001b[0;32m   1652\u001b[0m \u001b[38;5;28;01mif\u001b[39;00m has_events:\n\u001b[0;32m   1653\u001b[0m     \u001b[38;5;28mself\u001b[39m\u001b[38;5;241m.\u001b[39mdispatch\u001b[38;5;241m.\u001b[39mafter_execute(\n\u001b[0;32m   1654\u001b[0m         \u001b[38;5;28mself\u001b[39m,\n\u001b[0;32m   1655\u001b[0m         elem,\n\u001b[1;32m   (...)\u001b[0m\n\u001b[0;32m   1659\u001b[0m         ret,\n\u001b[0;32m   1660\u001b[0m     )\n",
      "File \u001b[1;32mC:\\ProgramData\\anaconda3\\Lib\\site-packages\\sqlalchemy\\engine\\base.py:1846\u001b[0m, in \u001b[0;36mConnection._execute_context\u001b[1;34m(self, dialect, constructor, statement, parameters, execution_options, *args, **kw)\u001b[0m\n\u001b[0;32m   1844\u001b[0m     \u001b[38;5;28;01mreturn\u001b[39;00m \u001b[38;5;28mself\u001b[39m\u001b[38;5;241m.\u001b[39m_exec_insertmany_context(dialect, context)\n\u001b[0;32m   1845\u001b[0m \u001b[38;5;28;01melse\u001b[39;00m:\n\u001b[1;32m-> 1846\u001b[0m     \u001b[38;5;28;01mreturn\u001b[39;00m \u001b[38;5;28mself\u001b[39m\u001b[38;5;241m.\u001b[39m_exec_single_context(\n\u001b[0;32m   1847\u001b[0m         dialect, context, statement, parameters\n\u001b[0;32m   1848\u001b[0m     )\n",
      "File \u001b[1;32mC:\\ProgramData\\anaconda3\\Lib\\site-packages\\sqlalchemy\\engine\\base.py:1986\u001b[0m, in \u001b[0;36mConnection._exec_single_context\u001b[1;34m(self, dialect, context, statement, parameters)\u001b[0m\n\u001b[0;32m   1983\u001b[0m     result \u001b[38;5;241m=\u001b[39m context\u001b[38;5;241m.\u001b[39m_setup_result_proxy()\n\u001b[0;32m   1985\u001b[0m \u001b[38;5;28;01mexcept\u001b[39;00m \u001b[38;5;167;01mBaseException\u001b[39;00m \u001b[38;5;28;01mas\u001b[39;00m e:\n\u001b[1;32m-> 1986\u001b[0m     \u001b[38;5;28mself\u001b[39m\u001b[38;5;241m.\u001b[39m_handle_dbapi_exception(\n\u001b[0;32m   1987\u001b[0m         e, str_statement, effective_parameters, cursor, context\n\u001b[0;32m   1988\u001b[0m     )\n\u001b[0;32m   1990\u001b[0m \u001b[38;5;28;01mreturn\u001b[39;00m result\n",
      "File \u001b[1;32mC:\\ProgramData\\anaconda3\\Lib\\site-packages\\sqlalchemy\\engine\\base.py:2355\u001b[0m, in \u001b[0;36mConnection._handle_dbapi_exception\u001b[1;34m(self, e, statement, parameters, cursor, context, is_sub_exec)\u001b[0m\n\u001b[0;32m   2353\u001b[0m \u001b[38;5;28;01melif\u001b[39;00m should_wrap:\n\u001b[0;32m   2354\u001b[0m     \u001b[38;5;28;01massert\u001b[39;00m sqlalchemy_exception \u001b[38;5;129;01mis\u001b[39;00m \u001b[38;5;129;01mnot\u001b[39;00m \u001b[38;5;28;01mNone\u001b[39;00m\n\u001b[1;32m-> 2355\u001b[0m     \u001b[38;5;28;01mraise\u001b[39;00m sqlalchemy_exception\u001b[38;5;241m.\u001b[39mwith_traceback(exc_info[\u001b[38;5;241m2\u001b[39m]) \u001b[38;5;28;01mfrom\u001b[39;00m \u001b[38;5;21;01me\u001b[39;00m\n\u001b[0;32m   2356\u001b[0m \u001b[38;5;28;01melse\u001b[39;00m:\n\u001b[0;32m   2357\u001b[0m     \u001b[38;5;28;01massert\u001b[39;00m exc_info[\u001b[38;5;241m1\u001b[39m] \u001b[38;5;129;01mis\u001b[39;00m \u001b[38;5;129;01mnot\u001b[39;00m \u001b[38;5;28;01mNone\u001b[39;00m\n",
      "File \u001b[1;32mC:\\ProgramData\\anaconda3\\Lib\\site-packages\\sqlalchemy\\engine\\base.py:1967\u001b[0m, in \u001b[0;36mConnection._exec_single_context\u001b[1;34m(self, dialect, context, statement, parameters)\u001b[0m\n\u001b[0;32m   1965\u001b[0m                 \u001b[38;5;28;01mbreak\u001b[39;00m\n\u001b[0;32m   1966\u001b[0m     \u001b[38;5;28;01mif\u001b[39;00m \u001b[38;5;129;01mnot\u001b[39;00m evt_handled:\n\u001b[1;32m-> 1967\u001b[0m         \u001b[38;5;28mself\u001b[39m\u001b[38;5;241m.\u001b[39mdialect\u001b[38;5;241m.\u001b[39mdo_execute(\n\u001b[0;32m   1968\u001b[0m             cursor, str_statement, effective_parameters, context\n\u001b[0;32m   1969\u001b[0m         )\n\u001b[0;32m   1971\u001b[0m \u001b[38;5;28;01mif\u001b[39;00m \u001b[38;5;28mself\u001b[39m\u001b[38;5;241m.\u001b[39m_has_events \u001b[38;5;129;01mor\u001b[39;00m \u001b[38;5;28mself\u001b[39m\u001b[38;5;241m.\u001b[39mengine\u001b[38;5;241m.\u001b[39m_has_events:\n\u001b[0;32m   1972\u001b[0m     \u001b[38;5;28mself\u001b[39m\u001b[38;5;241m.\u001b[39mdispatch\u001b[38;5;241m.\u001b[39mafter_cursor_execute(\n\u001b[0;32m   1973\u001b[0m         \u001b[38;5;28mself\u001b[39m,\n\u001b[0;32m   1974\u001b[0m         cursor,\n\u001b[1;32m   (...)\u001b[0m\n\u001b[0;32m   1978\u001b[0m         context\u001b[38;5;241m.\u001b[39mexecutemany,\n\u001b[0;32m   1979\u001b[0m     )\n",
      "File \u001b[1;32mC:\\ProgramData\\anaconda3\\Lib\\site-packages\\sqlalchemy\\engine\\default.py:941\u001b[0m, in \u001b[0;36mDefaultDialect.do_execute\u001b[1;34m(self, cursor, statement, parameters, context)\u001b[0m\n\u001b[0;32m    940\u001b[0m \u001b[38;5;28;01mdef\u001b[39;00m \u001b[38;5;21mdo_execute\u001b[39m(\u001b[38;5;28mself\u001b[39m, cursor, statement, parameters, context\u001b[38;5;241m=\u001b[39m\u001b[38;5;28;01mNone\u001b[39;00m):\n\u001b[1;32m--> 941\u001b[0m     cursor\u001b[38;5;241m.\u001b[39mexecute(statement, parameters)\n",
      "\u001b[1;31mProgrammingError\u001b[0m: (sqlite3.ProgrammingError) You can only execute one statement at a time.\n[SQL: \nCREATE TABLE IF NOT EXISTS dim_product AS\nSELECT \n   DISTINCT DATE(\"Order Date\") AS order_date,\n   CAST(STRFTIME('%Y', \"Order Date\") AS INTEGER) AS year,\n   CAST(STRFTIME('%m', \"Order Date\") AS INTEGER) AS month,\n\n   CASE \n       WHEN CAST(STRFTIME('%m', \"Order Date\") AS INTEGER) BETWEEN 1 AND 3 THEN 'Q1'\n       WHEN CAST(STRFTIME('%m', \"Order Date\") AS INTEGER) BETWEEN 4 AND 6 THEN 'Q2'\n       WHEN CAST(STRFTIME('%m', \"Order Date\") AS INTEGER) BETWEEN 7 AND 8 THEN 'Q3'\n       ELSE 'Q4'\n\n  END                                             AS quarter\n\nFROM raw_sales;\n\nCREATE TABLE IF NOT EXISTS dim_product AS\n    SELECT DISTINCT\n      Category,\n      \"Sub-Category\" AS sub_category\n\nFROM raw_sales\n   ]\n(Background on this error at: https://sqlalche.me/e/20/f405)"
     ]
    }
   ],
   "source": [
    "from sqlalchemy import text\n",
    "\n",
    "with engine.begin() as conn:\n",
    "    conn.execute(text(\n",
    "    \n",
    "\"\"\"\n",
    "CREATE TABLE IF NOT EXISTS dim_product AS\n",
    "SELECT \n",
    "   DISTINCT DATE(\"Order Date\") AS order_date,\n",
    "   CAST(STRFTIME('%Y', \"Order Date\") AS INTEGER) AS year,\n",
    "   CAST(STRFTIME('%m', \"Order Date\") AS INTEGER) AS month,\n",
    "\n",
    "   CASE \n",
    "       WHEN CAST(STRFTIME('%m', \"Order Date\") AS INTEGER) BETWEEN 1 AND 3 THEN 'Q1'\n",
    "       WHEN CAST(STRFTIME('%m', \"Order Date\") AS INTEGER) BETWEEN 4 AND 6 THEN 'Q2'\n",
    "       WHEN CAST(STRFTIME('%m', \"Order Date\") AS INTEGER) BETWEEN 7 AND 8 THEN 'Q3'\n",
    "       ELSE 'Q4'\n",
    "\n",
    "  END                                             AS quarter\n",
    "\n",
    "FROM raw_sales;\n",
    "\n",
    "CREATE TABLE IF NOT EXISTS dim_product AS\n",
    "    SELECT DISTINCT\n",
    "      Category,\n",
    "      \"Sub-Category\" AS sub_category\n",
    "\n",
    "FROM raw_sales\n",
    "   \"\"\"         \n",
    "                   )\n",
    "                )"
   ]
  },
  {
   "cell_type": "code",
   "execution_count": 37,
   "id": "fb30fd7c-d7cb-47ed-abd2-182c6e2a15b4",
   "metadata": {},
   "outputs": [
    {
     "name": "stdout",
     "output_type": "stream",
     "text": [
      "2025-05-19 19:33:31,979 INFO sqlalchemy.engine.Engine BEGIN (implicit)\n",
      "2025-05-19 19:33:31,980 INFO sqlalchemy.engine.Engine \n",
      "        CREATE TABLE IF NOT EXISTS facts_sales AS\n",
      "        SELECT \n",
      "            ROW_NUMBER() OVER (ORDER by \"ORDER ID\") AS sale_id,\n",
      "            DATE(\"Order Date\")                      AS order_date,\n",
      "            Category,\n",
      "            \"Sub-Category\" AS sub_category,\n",
      "            Region,\n",
      "            Sales,\n",
      "            Quantity,\n",
      "            Profit,\n",
      "            CAST((JULIANDAY(\"Ship Date\") - JULIANDAY(\"Order Date\")) AS INTEGER) AS shipping_time_days\n",
      "    FROM raw_sales;\n",
      "\n",
      "\n",
      "    \n",
      "      \n",
      "2025-05-19 19:33:31,980 INFO sqlalchemy.engine.Engine [generated in 0.00050s] ()\n",
      "2025-05-19 19:33:32,032 INFO sqlalchemy.engine.Engine COMMIT\n"
     ]
    }
   ],
   "source": [
    "with engine.begin() as conn:\n",
    "\n",
    "    conn.execute(text\n",
    "        (\"\"\"\n",
    "        CREATE TABLE IF NOT EXISTS facts_sales AS\n",
    "        SELECT \n",
    "            ROW_NUMBER() OVER (ORDER by \"ORDER ID\") AS sale_id,\n",
    "            DATE(\"Order Date\")                      AS order_date,\n",
    "            Category,\n",
    "            \"Sub-Category\" AS sub_category,\n",
    "            Region,\n",
    "            Sales,\n",
    "            Quantity,\n",
    "            Profit,\n",
    "            CAST((JULIANDAY(\"Ship Date\") - JULIANDAY(\"Order Date\")) AS INTEGER) AS shipping_time_days\n",
    "    FROM raw_sales;\n",
    "\n",
    "\n",
    "    \n",
    "      \"\"\")\n",
    "            )"
   ]
  },
  {
   "cell_type": "code",
   "execution_count": 43,
   "id": "f5122dd2-a7eb-4b41-9d39-5b71598d3ff7",
   "metadata": {},
   "outputs": [
    {
     "name": "stdout",
     "output_type": "stream",
     "text": [
      "2025-05-19 19:48:14,458 INFO sqlalchemy.engine.Engine BEGIN (implicit)\n",
      "2025-05-19 19:48:14,462 INFO sqlalchemy.engine.Engine PRAGMA main.table_info(\"SELECT Region, SUM(SALES) AS total_sales FROM facts_sales GROUP BY REGION\")\n",
      "2025-05-19 19:48:14,462 INFO sqlalchemy.engine.Engine [raw sql] ()\n",
      "2025-05-19 19:48:14,462 INFO sqlalchemy.engine.Engine PRAGMA temp.table_info(\"SELECT Region, SUM(SALES) AS total_sales FROM facts_sales GROUP BY REGION\")\n",
      "2025-05-19 19:48:14,465 INFO sqlalchemy.engine.Engine [raw sql] ()\n",
      "2025-05-19 19:48:14,465 INFO sqlalchemy.engine.Engine SELECT Region, SUM(SALES) AS total_sales FROM facts_sales GROUP BY REGION\n",
      "2025-05-19 19:48:14,467 INFO sqlalchemy.engine.Engine [raw sql] ()\n",
      "2025-05-19 19:48:14,471 INFO sqlalchemy.engine.Engine ROLLBACK\n",
      "2025-05-19 19:48:14,472 INFO sqlalchemy.engine.Engine BEGIN (implicit)\n",
      "2025-05-19 19:48:14,473 INFO sqlalchemy.engine.Engine PRAGMA main.table_info(\"SELECT d.quater, COUNT(*) AS num_orders FROM facts_sales f JOIN dim_date d USING(order_date) GROUP BY d.quarter\")\n",
      "2025-05-19 19:48:14,473 INFO sqlalchemy.engine.Engine [raw sql] ()\n",
      "2025-05-19 19:48:14,473 INFO sqlalchemy.engine.Engine PRAGMA temp.table_info(\"SELECT d.quater, COUNT(*) AS num_orders FROM facts_sales f JOIN dim_date d USING(order_date) GROUP BY d.quarter\")\n",
      "2025-05-19 19:48:14,473 INFO sqlalchemy.engine.Engine [raw sql] ()\n",
      "2025-05-19 19:48:14,475 INFO sqlalchemy.engine.Engine SELECT d.quater, COUNT(*) AS num_orders FROM facts_sales f JOIN dim_date d USING(order_date) GROUP BY d.quarter\n",
      "2025-05-19 19:48:14,475 INFO sqlalchemy.engine.Engine [raw sql] ()\n",
      "2025-05-19 19:48:14,477 INFO sqlalchemy.engine.Engine ROLLBACK\n"
     ]
    },
    {
     "ename": "OperationalError",
     "evalue": "(sqlite3.OperationalError) no such table: dim_date\n[SQL: SELECT d.quater, COUNT(*) AS num_orders FROM facts_sales f JOIN dim_date d USING(order_date) GROUP BY d.quarter]\n(Background on this error at: https://sqlalche.me/e/20/e3q8)",
     "output_type": "error",
     "traceback": [
      "\u001b[1;31m---------------------------------------------------------------------------\u001b[0m",
      "\u001b[1;31mOperationalError\u001b[0m                          Traceback (most recent call last)",
      "File \u001b[1;32mC:\\ProgramData\\anaconda3\\Lib\\site-packages\\sqlalchemy\\engine\\base.py:1967\u001b[0m, in \u001b[0;36mConnection._exec_single_context\u001b[1;34m(self, dialect, context, statement, parameters)\u001b[0m\n\u001b[0;32m   1966\u001b[0m     \u001b[38;5;28;01mif\u001b[39;00m \u001b[38;5;129;01mnot\u001b[39;00m evt_handled:\n\u001b[1;32m-> 1967\u001b[0m         \u001b[38;5;28mself\u001b[39m\u001b[38;5;241m.\u001b[39mdialect\u001b[38;5;241m.\u001b[39mdo_execute(\n\u001b[0;32m   1968\u001b[0m             cursor, str_statement, effective_parameters, context\n\u001b[0;32m   1969\u001b[0m         )\n\u001b[0;32m   1971\u001b[0m \u001b[38;5;28;01mif\u001b[39;00m \u001b[38;5;28mself\u001b[39m\u001b[38;5;241m.\u001b[39m_has_events \u001b[38;5;129;01mor\u001b[39;00m \u001b[38;5;28mself\u001b[39m\u001b[38;5;241m.\u001b[39mengine\u001b[38;5;241m.\u001b[39m_has_events:\n",
      "File \u001b[1;32mC:\\ProgramData\\anaconda3\\Lib\\site-packages\\sqlalchemy\\engine\\default.py:941\u001b[0m, in \u001b[0;36mDefaultDialect.do_execute\u001b[1;34m(self, cursor, statement, parameters, context)\u001b[0m\n\u001b[0;32m    940\u001b[0m \u001b[38;5;28;01mdef\u001b[39;00m \u001b[38;5;21mdo_execute\u001b[39m(\u001b[38;5;28mself\u001b[39m, cursor, statement, parameters, context\u001b[38;5;241m=\u001b[39m\u001b[38;5;28;01mNone\u001b[39;00m):\n\u001b[1;32m--> 941\u001b[0m     cursor\u001b[38;5;241m.\u001b[39mexecute(statement, parameters)\n",
      "\u001b[1;31mOperationalError\u001b[0m: no such table: dim_date",
      "\nThe above exception was the direct cause of the following exception:\n",
      "\u001b[1;31mOperationalError\u001b[0m                          Traceback (most recent call last)",
      "Cell \u001b[1;32mIn[43], line 3\u001b[0m\n\u001b[0;32m      1\u001b[0m pd\u001b[38;5;241m.\u001b[39mread_sql(\u001b[38;5;124m\"\u001b[39m\u001b[38;5;124mSELECT Region, SUM(SALES) AS total_sales FROM facts_sales GROUP BY REGION\u001b[39m\u001b[38;5;124m\"\u001b[39m, engine)\n\u001b[1;32m----> 3\u001b[0m pd\u001b[38;5;241m.\u001b[39mread_sql(\u001b[38;5;124m\"\u001b[39m\u001b[38;5;124mSELECT d.quater, COUNT(*) AS num_orders FROM facts_sales f JOIN dim_date d USING(order_date) GROUP BY d.quarter\u001b[39m\u001b[38;5;124m\"\u001b[39m, engine)\n\u001b[0;32m      5\u001b[0m pd\u001b[38;5;241m.\u001b[39mread_sql(\u001b[38;5;124m\"\"\"\u001b[39m\u001b[38;5;124mSELECT sub_category, SUM(Profit) AS total_profit\u001b[39m\n\u001b[0;32m      6\u001b[0m \u001b[38;5;124m            FROM facts_sales\u001b[39m\n\u001b[0;32m      7\u001b[0m \u001b[38;5;124m            GROUP BY sub_category\u001b[39m\n\u001b[0;32m      8\u001b[0m \u001b[38;5;124m            ORDER BY total_profit DESC LIMIT 5\u001b[39m\u001b[38;5;124m\"\"\"\u001b[39m, engine)\n",
      "File \u001b[1;32mC:\\ProgramData\\anaconda3\\Lib\\site-packages\\pandas\\io\\sql.py:734\u001b[0m, in \u001b[0;36mread_sql\u001b[1;34m(sql, con, index_col, coerce_float, params, parse_dates, columns, chunksize, dtype_backend, dtype)\u001b[0m\n\u001b[0;32m    724\u001b[0m     \u001b[38;5;28;01mreturn\u001b[39;00m pandas_sql\u001b[38;5;241m.\u001b[39mread_table(\n\u001b[0;32m    725\u001b[0m         sql,\n\u001b[0;32m    726\u001b[0m         index_col\u001b[38;5;241m=\u001b[39mindex_col,\n\u001b[1;32m   (...)\u001b[0m\n\u001b[0;32m    731\u001b[0m         dtype_backend\u001b[38;5;241m=\u001b[39mdtype_backend,\n\u001b[0;32m    732\u001b[0m     )\n\u001b[0;32m    733\u001b[0m \u001b[38;5;28;01melse\u001b[39;00m:\n\u001b[1;32m--> 734\u001b[0m     \u001b[38;5;28;01mreturn\u001b[39;00m pandas_sql\u001b[38;5;241m.\u001b[39mread_query(\n\u001b[0;32m    735\u001b[0m         sql,\n\u001b[0;32m    736\u001b[0m         index_col\u001b[38;5;241m=\u001b[39mindex_col,\n\u001b[0;32m    737\u001b[0m         params\u001b[38;5;241m=\u001b[39mparams,\n\u001b[0;32m    738\u001b[0m         coerce_float\u001b[38;5;241m=\u001b[39mcoerce_float,\n\u001b[0;32m    739\u001b[0m         parse_dates\u001b[38;5;241m=\u001b[39mparse_dates,\n\u001b[0;32m    740\u001b[0m         chunksize\u001b[38;5;241m=\u001b[39mchunksize,\n\u001b[0;32m    741\u001b[0m         dtype_backend\u001b[38;5;241m=\u001b[39mdtype_backend,\n\u001b[0;32m    742\u001b[0m         dtype\u001b[38;5;241m=\u001b[39mdtype,\n\u001b[0;32m    743\u001b[0m     )\n",
      "File \u001b[1;32mC:\\ProgramData\\anaconda3\\Lib\\site-packages\\pandas\\io\\sql.py:1836\u001b[0m, in \u001b[0;36mSQLDatabase.read_query\u001b[1;34m(self, sql, index_col, coerce_float, parse_dates, params, chunksize, dtype, dtype_backend)\u001b[0m\n\u001b[0;32m   1779\u001b[0m \u001b[38;5;28;01mdef\u001b[39;00m \u001b[38;5;21mread_query\u001b[39m(\n\u001b[0;32m   1780\u001b[0m     \u001b[38;5;28mself\u001b[39m,\n\u001b[0;32m   1781\u001b[0m     sql: \u001b[38;5;28mstr\u001b[39m,\n\u001b[1;32m   (...)\u001b[0m\n\u001b[0;32m   1788\u001b[0m     dtype_backend: DtypeBackend \u001b[38;5;241m|\u001b[39m Literal[\u001b[38;5;124m\"\u001b[39m\u001b[38;5;124mnumpy\u001b[39m\u001b[38;5;124m\"\u001b[39m] \u001b[38;5;241m=\u001b[39m \u001b[38;5;124m\"\u001b[39m\u001b[38;5;124mnumpy\u001b[39m\u001b[38;5;124m\"\u001b[39m,\n\u001b[0;32m   1789\u001b[0m ) \u001b[38;5;241m-\u001b[39m\u001b[38;5;241m>\u001b[39m DataFrame \u001b[38;5;241m|\u001b[39m Iterator[DataFrame]:\n\u001b[0;32m   1790\u001b[0m \u001b[38;5;250m    \u001b[39m\u001b[38;5;124;03m\"\"\"\u001b[39;00m\n\u001b[0;32m   1791\u001b[0m \u001b[38;5;124;03m    Read SQL query into a DataFrame.\u001b[39;00m\n\u001b[0;32m   1792\u001b[0m \n\u001b[1;32m   (...)\u001b[0m\n\u001b[0;32m   1834\u001b[0m \n\u001b[0;32m   1835\u001b[0m \u001b[38;5;124;03m    \"\"\"\u001b[39;00m\n\u001b[1;32m-> 1836\u001b[0m     result \u001b[38;5;241m=\u001b[39m \u001b[38;5;28mself\u001b[39m\u001b[38;5;241m.\u001b[39mexecute(sql, params)\n\u001b[0;32m   1837\u001b[0m     columns \u001b[38;5;241m=\u001b[39m result\u001b[38;5;241m.\u001b[39mkeys()\n\u001b[0;32m   1839\u001b[0m     \u001b[38;5;28;01mif\u001b[39;00m chunksize \u001b[38;5;129;01mis\u001b[39;00m \u001b[38;5;129;01mnot\u001b[39;00m \u001b[38;5;28;01mNone\u001b[39;00m:\n",
      "File \u001b[1;32mC:\\ProgramData\\anaconda3\\Lib\\site-packages\\pandas\\io\\sql.py:1659\u001b[0m, in \u001b[0;36mSQLDatabase.execute\u001b[1;34m(self, sql, params)\u001b[0m\n\u001b[0;32m   1657\u001b[0m args \u001b[38;5;241m=\u001b[39m [] \u001b[38;5;28;01mif\u001b[39;00m params \u001b[38;5;129;01mis\u001b[39;00m \u001b[38;5;28;01mNone\u001b[39;00m \u001b[38;5;28;01melse\u001b[39;00m [params]\n\u001b[0;32m   1658\u001b[0m \u001b[38;5;28;01mif\u001b[39;00m \u001b[38;5;28misinstance\u001b[39m(sql, \u001b[38;5;28mstr\u001b[39m):\n\u001b[1;32m-> 1659\u001b[0m     \u001b[38;5;28;01mreturn\u001b[39;00m \u001b[38;5;28mself\u001b[39m\u001b[38;5;241m.\u001b[39mcon\u001b[38;5;241m.\u001b[39mexec_driver_sql(sql, \u001b[38;5;241m*\u001b[39margs)\n\u001b[0;32m   1660\u001b[0m \u001b[38;5;28;01mreturn\u001b[39;00m \u001b[38;5;28mself\u001b[39m\u001b[38;5;241m.\u001b[39mcon\u001b[38;5;241m.\u001b[39mexecute(sql, \u001b[38;5;241m*\u001b[39margs)\n",
      "File \u001b[1;32mC:\\ProgramData\\anaconda3\\Lib\\site-packages\\sqlalchemy\\engine\\base.py:1779\u001b[0m, in \u001b[0;36mConnection.exec_driver_sql\u001b[1;34m(self, statement, parameters, execution_options)\u001b[0m\n\u001b[0;32m   1774\u001b[0m execution_options \u001b[38;5;241m=\u001b[39m \u001b[38;5;28mself\u001b[39m\u001b[38;5;241m.\u001b[39m_execution_options\u001b[38;5;241m.\u001b[39mmerge_with(\n\u001b[0;32m   1775\u001b[0m     execution_options\n\u001b[0;32m   1776\u001b[0m )\n\u001b[0;32m   1778\u001b[0m dialect \u001b[38;5;241m=\u001b[39m \u001b[38;5;28mself\u001b[39m\u001b[38;5;241m.\u001b[39mdialect\n\u001b[1;32m-> 1779\u001b[0m ret \u001b[38;5;241m=\u001b[39m \u001b[38;5;28mself\u001b[39m\u001b[38;5;241m.\u001b[39m_execute_context(\n\u001b[0;32m   1780\u001b[0m     dialect,\n\u001b[0;32m   1781\u001b[0m     dialect\u001b[38;5;241m.\u001b[39mexecution_ctx_cls\u001b[38;5;241m.\u001b[39m_init_statement,\n\u001b[0;32m   1782\u001b[0m     statement,\n\u001b[0;32m   1783\u001b[0m     \u001b[38;5;28;01mNone\u001b[39;00m,\n\u001b[0;32m   1784\u001b[0m     execution_options,\n\u001b[0;32m   1785\u001b[0m     statement,\n\u001b[0;32m   1786\u001b[0m     distilled_parameters,\n\u001b[0;32m   1787\u001b[0m )\n\u001b[0;32m   1789\u001b[0m \u001b[38;5;28;01mreturn\u001b[39;00m ret\n",
      "File \u001b[1;32mC:\\ProgramData\\anaconda3\\Lib\\site-packages\\sqlalchemy\\engine\\base.py:1846\u001b[0m, in \u001b[0;36mConnection._execute_context\u001b[1;34m(self, dialect, constructor, statement, parameters, execution_options, *args, **kw)\u001b[0m\n\u001b[0;32m   1844\u001b[0m     \u001b[38;5;28;01mreturn\u001b[39;00m \u001b[38;5;28mself\u001b[39m\u001b[38;5;241m.\u001b[39m_exec_insertmany_context(dialect, context)\n\u001b[0;32m   1845\u001b[0m \u001b[38;5;28;01melse\u001b[39;00m:\n\u001b[1;32m-> 1846\u001b[0m     \u001b[38;5;28;01mreturn\u001b[39;00m \u001b[38;5;28mself\u001b[39m\u001b[38;5;241m.\u001b[39m_exec_single_context(\n\u001b[0;32m   1847\u001b[0m         dialect, context, statement, parameters\n\u001b[0;32m   1848\u001b[0m     )\n",
      "File \u001b[1;32mC:\\ProgramData\\anaconda3\\Lib\\site-packages\\sqlalchemy\\engine\\base.py:1986\u001b[0m, in \u001b[0;36mConnection._exec_single_context\u001b[1;34m(self, dialect, context, statement, parameters)\u001b[0m\n\u001b[0;32m   1983\u001b[0m     result \u001b[38;5;241m=\u001b[39m context\u001b[38;5;241m.\u001b[39m_setup_result_proxy()\n\u001b[0;32m   1985\u001b[0m \u001b[38;5;28;01mexcept\u001b[39;00m \u001b[38;5;167;01mBaseException\u001b[39;00m \u001b[38;5;28;01mas\u001b[39;00m e:\n\u001b[1;32m-> 1986\u001b[0m     \u001b[38;5;28mself\u001b[39m\u001b[38;5;241m.\u001b[39m_handle_dbapi_exception(\n\u001b[0;32m   1987\u001b[0m         e, str_statement, effective_parameters, cursor, context\n\u001b[0;32m   1988\u001b[0m     )\n\u001b[0;32m   1990\u001b[0m \u001b[38;5;28;01mreturn\u001b[39;00m result\n",
      "File \u001b[1;32mC:\\ProgramData\\anaconda3\\Lib\\site-packages\\sqlalchemy\\engine\\base.py:2355\u001b[0m, in \u001b[0;36mConnection._handle_dbapi_exception\u001b[1;34m(self, e, statement, parameters, cursor, context, is_sub_exec)\u001b[0m\n\u001b[0;32m   2353\u001b[0m \u001b[38;5;28;01melif\u001b[39;00m should_wrap:\n\u001b[0;32m   2354\u001b[0m     \u001b[38;5;28;01massert\u001b[39;00m sqlalchemy_exception \u001b[38;5;129;01mis\u001b[39;00m \u001b[38;5;129;01mnot\u001b[39;00m \u001b[38;5;28;01mNone\u001b[39;00m\n\u001b[1;32m-> 2355\u001b[0m     \u001b[38;5;28;01mraise\u001b[39;00m sqlalchemy_exception\u001b[38;5;241m.\u001b[39mwith_traceback(exc_info[\u001b[38;5;241m2\u001b[39m]) \u001b[38;5;28;01mfrom\u001b[39;00m \u001b[38;5;21;01me\u001b[39;00m\n\u001b[0;32m   2356\u001b[0m \u001b[38;5;28;01melse\u001b[39;00m:\n\u001b[0;32m   2357\u001b[0m     \u001b[38;5;28;01massert\u001b[39;00m exc_info[\u001b[38;5;241m1\u001b[39m] \u001b[38;5;129;01mis\u001b[39;00m \u001b[38;5;129;01mnot\u001b[39;00m \u001b[38;5;28;01mNone\u001b[39;00m\n",
      "File \u001b[1;32mC:\\ProgramData\\anaconda3\\Lib\\site-packages\\sqlalchemy\\engine\\base.py:1967\u001b[0m, in \u001b[0;36mConnection._exec_single_context\u001b[1;34m(self, dialect, context, statement, parameters)\u001b[0m\n\u001b[0;32m   1965\u001b[0m                 \u001b[38;5;28;01mbreak\u001b[39;00m\n\u001b[0;32m   1966\u001b[0m     \u001b[38;5;28;01mif\u001b[39;00m \u001b[38;5;129;01mnot\u001b[39;00m evt_handled:\n\u001b[1;32m-> 1967\u001b[0m         \u001b[38;5;28mself\u001b[39m\u001b[38;5;241m.\u001b[39mdialect\u001b[38;5;241m.\u001b[39mdo_execute(\n\u001b[0;32m   1968\u001b[0m             cursor, str_statement, effective_parameters, context\n\u001b[0;32m   1969\u001b[0m         )\n\u001b[0;32m   1971\u001b[0m \u001b[38;5;28;01mif\u001b[39;00m \u001b[38;5;28mself\u001b[39m\u001b[38;5;241m.\u001b[39m_has_events \u001b[38;5;129;01mor\u001b[39;00m \u001b[38;5;28mself\u001b[39m\u001b[38;5;241m.\u001b[39mengine\u001b[38;5;241m.\u001b[39m_has_events:\n\u001b[0;32m   1972\u001b[0m     \u001b[38;5;28mself\u001b[39m\u001b[38;5;241m.\u001b[39mdispatch\u001b[38;5;241m.\u001b[39mafter_cursor_execute(\n\u001b[0;32m   1973\u001b[0m         \u001b[38;5;28mself\u001b[39m,\n\u001b[0;32m   1974\u001b[0m         cursor,\n\u001b[1;32m   (...)\u001b[0m\n\u001b[0;32m   1978\u001b[0m         context\u001b[38;5;241m.\u001b[39mexecutemany,\n\u001b[0;32m   1979\u001b[0m     )\n",
      "File \u001b[1;32mC:\\ProgramData\\anaconda3\\Lib\\site-packages\\sqlalchemy\\engine\\default.py:941\u001b[0m, in \u001b[0;36mDefaultDialect.do_execute\u001b[1;34m(self, cursor, statement, parameters, context)\u001b[0m\n\u001b[0;32m    940\u001b[0m \u001b[38;5;28;01mdef\u001b[39;00m \u001b[38;5;21mdo_execute\u001b[39m(\u001b[38;5;28mself\u001b[39m, cursor, statement, parameters, context\u001b[38;5;241m=\u001b[39m\u001b[38;5;28;01mNone\u001b[39;00m):\n\u001b[1;32m--> 941\u001b[0m     cursor\u001b[38;5;241m.\u001b[39mexecute(statement, parameters)\n",
      "\u001b[1;31mOperationalError\u001b[0m: (sqlite3.OperationalError) no such table: dim_date\n[SQL: SELECT d.quater, COUNT(*) AS num_orders FROM facts_sales f JOIN dim_date d USING(order_date) GROUP BY d.quarter]\n(Background on this error at: https://sqlalche.me/e/20/e3q8)"
     ]
    }
   ],
   "source": [
    "pd.read_sql(\"SELECT Region, SUM(SALES) AS total_sales FROM facts_sales GROUP BY REGION\", engine)\n",
    "\n",
    "pd.read_sql(\"SELECT d.quater, COUNT(*) AS num_orders FROM facts_sales f JOIN dim_date d USING(order_date) GROUP BY d.quarter\", engine)\n",
    "\n",
    "pd.read_sql(\"\"\"SELECT sub_category, SUM(Profit) AS total_profit\n",
    "            FROM facts_sales\n",
    "            GROUP BY sub_category\n",
    "            ORDER BY total_profit DESC LIMIT 5\"\"\", engine)\n",
    "\n",
    "\n"
   ]
  },
  {
   "cell_type": "code",
   "execution_count": null,
   "id": "139d8b07-5f3b-4e71-95e4-0c15fda44443",
   "metadata": {},
   "outputs": [],
   "source": []
  }
 ],
 "metadata": {
  "kernelspec": {
   "display_name": "Python [conda env:base] *",
   "language": "python",
   "name": "conda-base-py"
  },
  "language_info": {
   "codemirror_mode": {
    "name": "ipython",
    "version": 3
   },
   "file_extension": ".py",
   "mimetype": "text/x-python",
   "name": "python",
   "nbconvert_exporter": "python",
   "pygments_lexer": "ipython3",
   "version": "3.12.7"
  }
 },
 "nbformat": 4,
 "nbformat_minor": 5
}
